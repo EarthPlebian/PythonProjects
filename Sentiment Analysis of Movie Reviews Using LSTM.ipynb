{
 "cells": [
  {
   "cell_type": "markdown",
   "metadata": {},
   "source": [
    "# Sentiment Analysis of Movie Reviews Using LSTM "
   ]
  },
  {
   "cell_type": "markdown",
   "metadata": {},
   "source": [
    "## Import Library"
   ]
  },
  {
   "cell_type": "code",
   "execution_count": 1,
   "metadata": {},
   "outputs": [],
   "source": [
    "import seaborn as sns\n",
    "import keras\n",
    "from keras.preprocessing import sequence\n",
    "from keras.utils import pad_sequences\n",
    "from keras.models import Sequential\n",
    "from keras.layers import Embedding\n",
    "from keras.layers import Dense, Embedding\n",
    "from keras.layers import LSTM\n",
    "%matplotlib inline\n",
    "from matplotlib import pyplot as plt\n",
    "from sklearn.metrics import confusion_matrix"
   ]
  },
  {
   "cell_type": "markdown",
   "metadata": {},
   "source": [
    "## Import IMDB Dataset"
   ]
  },
  {
   "cell_type": "markdown",
   "metadata": {},
   "source": [
    "First, let's import the dataset. The IMDb movie reviews dataset is already provided in Keras, so we can import it directly"
   ]
  },
  {
   "cell_type": "code",
   "execution_count": 2,
   "metadata": {},
   "outputs": [],
   "source": [
    "from keras.datasets import imdb"
   ]
  },
  {
   "cell_type": "markdown",
   "metadata": {},
   "source": [
    "The `load_data` function returns two tuples as the output. The first tuple holds the training set, while the second tuple holds the testing set. Note that the `load_data` function splits the data equally and randomly into training and testing sets.\n",
    "\n",
    "`num_words`: defined as the maximum number of unique words to be loaded. Only the n most common unique words (as they appear in the dataset) will be loaded. If n is small, the training time will be faster at the expense of accuracy. Let's set `num_words` = 10000."
   ]
  },
  {
   "cell_type": "code",
   "execution_count": 3,
   "metadata": {},
   "outputs": [],
   "source": [
    "training_set, testing_set = imdb.load_data(num_words = 10000)\n",
    "X_train, y_train = training_set\n",
    "X_test, y_test = testing_set"
   ]
  },
  {
   "cell_type": "markdown",
   "metadata": {},
   "source": [
    "Let's do a quick check to see the amount of data we have:"
   ]
  },
  {
   "cell_type": "code",
   "execution_count": 4,
   "metadata": {},
   "outputs": [
    {
     "name": "stdout",
     "output_type": "stream",
     "text": [
      "Number of training samples = 25000\n",
      "Number of testing samples = 25000\n"
     ]
    }
   ],
   "source": [
    "print(\"Number of training samples = {}\".format(X_train.shape[0]))\n",
    "print(\"Number of testing samples = {}\".format(X_test.shape[0]))"
   ]
  },
  {
   "cell_type": "markdown",
   "metadata": {},
   "source": [
    "## Zero Padding"
   ]
  },
  {
   "cell_type": "markdown",
   "metadata": {},
   "source": [
    "Before we can use the data as input to our neural network, we need to address an issue. We know that movie reviews have different lengths, and therefore the input vectors have different sizes. This is an issue, as neural networks only accept fixed-size vectors. To address this issue, we are going to define a `maxlen` parameter. The `maxlen` parameter\n",
    "shall be the maximum length of each movie review. Reviews that are longer than `maxlen` will be truncated, and reviews that are shorter than `maxlen` will be padded with zeros. Using zero padding, we ensure that the input will have a fixed vector length."
   ]
  },
  {
   "cell_type": "code",
   "execution_count": 5,
   "metadata": {},
   "outputs": [
    {
     "name": "stdout",
     "output_type": "stream",
     "text": [
      "X_train vector shape = (25000, 100)\n",
      "X_test vector shape = (25000, 100)\n"
     ]
    }
   ],
   "source": [
    "X_train_padded = pad_sequences(X_train, maxlen= 100)\n",
    "X_test_padded = pad_sequences(X_test, maxlen= 100)\n",
    "\n",
    "print(\"X_train vector shape = {}\".format(X_train_padded.shape))\n",
    "print(\"X_test vector shape = {}\".format(X_test_padded.shape))"
   ]
  },
  {
   "cell_type": "markdown",
   "metadata": {},
   "source": [
    "## Word embedding and LSTM layers"
   ]
  },
  {
   "cell_type": "markdown",
   "metadata": {},
   "source": [
    "With our input preprocessed, we can now turn our attention to model building. We will use the Sequential class in Keras to build our model. The Sequential class allows us to stack layers on top of one another, making it really easy to build complex models layer by layer."
   ]
  },
  {
   "cell_type": "markdown",
   "metadata": {},
   "source": [
    "First define a new `Sequential` class:\n",
    "> model = Sequential()\n",
    "\n",
    "Next, we can add the word embedding layer to our model. The `Embedding` class takes the following important arguments:\n",
    "* `input_dim`: The input dimensions of the word embedding layer. This should be the same as the `num_words` parameter that we used when we loaded in our data. Essentially, this is the maximum number of unique words in our dataset.\n",
    "* `output_dim`: The output dimensions of the word embedding layer. This should be a hyperparameter to be fine-tuned. For now, let's use a value of `128`.\n",
    "\n",
    "Similarly, we can add a `LSTM` layer to our model. The `LSTM` class takes the following important arguments:\n",
    "* `units`: This refers to the number of recurring units in the `LSTM` layer. A larger number of units results in a more complex model, at the expense of training time and overfitting. For now, let's use a typical value of `128` for the number of units.\n",
    "* `activation`: This refers to the type of activation function applied to the cell state and the hidden state. The default value is the tanh function.\n",
    "* `recurrent_activation`: This refers to the type of activation function applied to the forget, input, and output gates. The default value is the `sigmoid` function.\n",
    "\n",
    "Finally, we add a `Dense` layer with `sigmoid` as the `activation` function. The purpose of this layer is to ensure that the output of our model has a value between 0 and 1, representing the probability that the movie review is positive. The `Dense` layer is the final layer in our neural network. \n",
    "\n",
    "With the model building complete, we're ready to compile and train our model. We can compile our model as follows:\n",
    "> model.compile(loss='binary_crossentropy', optimizer = Optimizer, metrics=['accuracy'])\n",
    "\n",
    "and train our model for 10 epochs, using the testing set as the validation data. We can do so as follows:\n",
    "> scores = model.fit(X_train, y_train, batch_size=128, epochs=10, validation_data=(X_val, y_val))"
   ]
  },
  {
   "cell_type": "code",
   "execution_count": 6,
   "metadata": {},
   "outputs": [],
   "source": [
    "def train_model(Optimizer, X_train, y_train, X_val, y_val):\n",
    "    model = Sequential()\n",
    "    model.add(Embedding(input_dim = 10000, output_dim = 128))\n",
    "    model.add(LSTM(units=128))\n",
    "    model.add(Dense(units=1, activation='sigmoid'))\n",
    "    model.compile(loss='binary_crossentropy', optimizer = Optimizer, metrics=['accuracy'])\n",
    "    scores = model.fit(X_train, y_train, batch_size=128, epochs=10, validation_data=(X_val, y_val))\n",
    "    return scores, model\n",
    "\n"
   ]
  },
  {
   "cell_type": "markdown",
   "metadata": {},
   "source": [
    "## Analyzing the results"
   ]
  },
  {
   "cell_type": "markdown",
   "metadata": {},
   "source": [
    "Let's plot the validation accuracy per epoch for the three different models. First, we plot for the model trained using the `sgd` optimizer:"
   ]
  },
  {
   "cell_type": "code",
   "execution_count": 7,
   "metadata": {},
   "outputs": [
    {
     "name": "stdout",
     "output_type": "stream",
     "text": [
      "Epoch 1/10\n",
      "196/196 [==============================] - 45s 208ms/step - loss: 0.6929 - accuracy: 0.5108 - val_loss: 0.6929 - val_accuracy: 0.5173\n",
      "Epoch 2/10\n",
      "196/196 [==============================] - 49s 251ms/step - loss: 0.6929 - accuracy: 0.5178 - val_loss: 0.6928 - val_accuracy: 0.5224\n",
      "Epoch 3/10\n",
      "196/196 [==============================] - 60s 307ms/step - loss: 0.6928 - accuracy: 0.5223 - val_loss: 0.6927 - val_accuracy: 0.5280\n",
      "Epoch 4/10\n",
      "196/196 [==============================] - 48s 248ms/step - loss: 0.6927 - accuracy: 0.5214 - val_loss: 0.6927 - val_accuracy: 0.5309\n",
      "Epoch 5/10\n",
      "196/196 [==============================] - 48s 245ms/step - loss: 0.6926 - accuracy: 0.5308 - val_loss: 0.6926 - val_accuracy: 0.5262\n",
      "Epoch 6/10\n",
      "196/196 [==============================] - 47s 242ms/step - loss: 0.6925 - accuracy: 0.5318 - val_loss: 0.6925 - val_accuracy: 0.5297\n",
      "Epoch 7/10\n",
      "196/196 [==============================] - 51s 259ms/step - loss: 0.6924 - accuracy: 0.5260 - val_loss: 0.6924 - val_accuracy: 0.5386\n",
      "Epoch 8/10\n",
      "196/196 [==============================] - 55s 279ms/step - loss: 0.6924 - accuracy: 0.5403 - val_loss: 0.6923 - val_accuracy: 0.5412\n",
      "Epoch 9/10\n",
      "196/196 [==============================] - 48s 246ms/step - loss: 0.6923 - accuracy: 0.5431 - val_loss: 0.6923 - val_accuracy: 0.5424\n",
      "Epoch 10/10\n",
      "196/196 [==============================] - 46s 234ms/step - loss: 0.6922 - accuracy: 0.5461 - val_loss: 0.6922 - val_accuracy: 0.5467\n"
     ]
    }
   ],
   "source": [
    "# Train Model\n",
    "SGD_score, SGD_model = train_model(Optimizer = 'sgd', X_train=X_train_padded, y_train=y_train, X_val=X_test_padded, y_val=y_test)"
   ]
  },
  {
   "cell_type": "code",
   "execution_count": 8,
   "metadata": {},
   "outputs": [
    {
     "data": {
      "image/png": "[encoded data removed]",
      "text/plain": [
       "<Figure size 432x288 with 1 Axes>"
      ]
     },
     "metadata": {
      "needs_background": "light"
     },
     "output_type": "display_data"
    }
   ],
   "source": [
    "plt.plot(range(1,11), SGD_score.history['accuracy'], label='Training Accuracy')\n",
    "plt.plot(range(1,11), SGD_score.history['val_accuracy'],\n",
    "label='Validation Accuracy')\n",
    "plt.axis([1, 10, 0, 1])\n",
    "plt.xlabel('Epoch')\n",
    "plt.ylabel('Accuracy')\n",
    "plt.title('Train and Validation Accuracy using SGD Optimizer')\n",
    "plt.legend()\n",
    "plt.show()"
   ]
  },
  {
   "cell_type": "markdown",
   "metadata": {},
   "source": [
    "From the ouput we can see that the training and validation accuracy is stuck at around 50%. Essentially, this shows that the training has failed and our neural network performs no better than a random coin toss. Clearly, the sgd optimizer is not suitable for this dataset and this LSTM network."
   ]
  },
  {
   "cell_type": "markdown",
   "metadata": {},
   "source": [
    "Next, we plot the training and validation accuracy for the model trained using the RMSprop optimizer"
   ]
  },
  {
   "cell_type": "code",
   "execution_count": 9,
   "metadata": {},
   "outputs": [
    {
     "name": "stdout",
     "output_type": "stream",
     "text": [
      "Epoch 1/10\n",
      "196/196 [==============================] - 69s 330ms/step - loss: 0.4764 - accuracy: 0.7744 - val_loss: 0.3429 - val_accuracy: 0.8487\n",
      "Epoch 2/10\n",
      "196/196 [==============================] - 42s 213ms/step - loss: 0.3108 - accuracy: 0.8708 - val_loss: 0.4026 - val_accuracy: 0.8311\n",
      "Epoch 3/10\n",
      "196/196 [==============================] - 39s 200ms/step - loss: 0.2618 - accuracy: 0.8958 - val_loss: 0.3587 - val_accuracy: 0.8462\n",
      "Epoch 4/10\n",
      "196/196 [==============================] - 36s 186ms/step - loss: 0.2243 - accuracy: 0.9127 - val_loss: 0.3677 - val_accuracy: 0.8478\n",
      "Epoch 5/10\n",
      "196/196 [==============================] - 39s 198ms/step - loss: 0.1934 - accuracy: 0.9266 - val_loss: 0.4308 - val_accuracy: 0.8290\n",
      "Epoch 6/10\n",
      "196/196 [==============================] - 37s 187ms/step - loss: 0.1658 - accuracy: 0.9398 - val_loss: 0.4849 - val_accuracy: 0.8292\n",
      "Epoch 7/10\n",
      "196/196 [==============================] - 36s 185ms/step - loss: 0.1439 - accuracy: 0.9458 - val_loss: 0.4935 - val_accuracy: 0.8385\n",
      "Epoch 8/10\n",
      "196/196 [==============================] - 35s 176ms/step - loss: 0.1199 - accuracy: 0.9572 - val_loss: 0.5791 - val_accuracy: 0.8188\n",
      "Epoch 9/10\n",
      "196/196 [==============================] - 41s 208ms/step - loss: 0.1015 - accuracy: 0.9649 - val_loss: 0.5704 - val_accuracy: 0.8296\n",
      "Epoch 10/10\n",
      "196/196 [==============================] - 36s 184ms/step - loss: 0.0765 - accuracy: 0.9731 - val_loss: 0.7379 - val_accuracy: 0.8257\n"
     ]
    }
   ],
   "source": [
    "# Train Model\n",
    "RMSprop_score, RMSprop_model = train_model(Optimizer = 'RMSprop', X_train=X_train_padded, y_train=y_train, X_val=X_test_padded, y_val=y_test)"
   ]
  },
  {
   "cell_type": "code",
   "execution_count": 10,
   "metadata": {},
   "outputs": [
    {
     "data": {
      "image/png": "[encoded data removed]",
      "text/plain": [
       "<Figure size 432x288 with 1 Axes>"
      ]
     },
     "metadata": {
      "needs_background": "light"
     },
     "output_type": "display_data"
    }
   ],
   "source": [
    "plt.plot(range(1,11), RMSprop_score.history['accuracy'],label='Training Accuracy')\n",
    "plt.plot(range(1,11), RMSprop_score.history['val_accuracy'],label='Validation Accuracy')\n",
    "plt.axis([1, 10, 0, 1])\n",
    "plt.xlabel('Epoch')\n",
    "plt.ylabel('Accuracy')\n",
    "plt.title('Train and Validation Accuracy using RMSprop Optimizer')\n",
    "plt.legend()\n",
    "plt.show()"
   ]
  },
  {
   "cell_type": "markdown",
   "metadata": {},
   "source": [
    "From the ouput we can see that within 10 epochs, our model is able to achieve a training accuracy of more than 95% and a validation accuracy of around 85%. Clearly, the RMSprop optimizer performs better than the sgd optimizer for this task."
   ]
  },
  {
   "cell_type": "markdown",
   "metadata": {},
   "source": [
    "Finally, let's try the adam optimizer and see how it performs."
   ]
  },
  {
   "cell_type": "code",
   "execution_count": 11,
   "metadata": {},
   "outputs": [
    {
     "name": "stdout",
     "output_type": "stream",
     "text": [
      "Epoch 1/10\n",
      "196/196 [==============================] - 62s 289ms/step - loss: 0.4464 - accuracy: 0.7819 - val_loss: 0.3651 - val_accuracy: 0.8421\n",
      "Epoch 2/10\n",
      "196/196 [==============================] - 40s 204ms/step - loss: 0.2642 - accuracy: 0.8959 - val_loss: 0.3838 - val_accuracy: 0.8462\n",
      "Epoch 3/10\n",
      "196/196 [==============================] - 43s 221ms/step - loss: 0.1962 - accuracy: 0.9250 - val_loss: 0.3920 - val_accuracy: 0.8444\n",
      "Epoch 4/10\n",
      "196/196 [==============================] - 38s 196ms/step - loss: 0.1408 - accuracy: 0.9493 - val_loss: 0.5180 - val_accuracy: 0.8281\n",
      "Epoch 5/10\n",
      "196/196 [==============================] - 37s 187ms/step - loss: 0.1061 - accuracy: 0.9633 - val_loss: 0.5284 - val_accuracy: 0.8331\n",
      "Epoch 6/10\n",
      "196/196 [==============================] - 36s 185ms/step - loss: 0.0897 - accuracy: 0.9688 - val_loss: 0.5647 - val_accuracy: 0.8262\n",
      "Epoch 7/10\n",
      "196/196 [==============================] - 38s 192ms/step - loss: 0.0705 - accuracy: 0.9766 - val_loss: 0.6503 - val_accuracy: 0.8198\n",
      "Epoch 8/10\n",
      "196/196 [==============================] - 37s 190ms/step - loss: 0.0757 - accuracy: 0.9741 - val_loss: 0.7163 - val_accuracy: 0.8200\n",
      "Epoch 9/10\n",
      "196/196 [==============================] - 39s 199ms/step - loss: 0.0530 - accuracy: 0.9832 - val_loss: 0.7709 - val_accuracy: 0.8227\n",
      "Epoch 10/10\n",
      "196/196 [==============================] - 39s 198ms/step - loss: 0.0375 - accuracy: 0.9887 - val_loss: 0.9285 - val_accuracy: 0.8208\n"
     ]
    }
   ],
   "source": [
    "# Train Model\n",
    "Adam_score, Adam_model = train_model(Optimizer = 'adam', X_train=X_train_padded, y_train=y_train, X_val=X_test_padded, y_val=y_test)"
   ]
  },
  {
   "cell_type": "code",
   "execution_count": 12,
   "metadata": {},
   "outputs": [
    {
     "data": {
      "image/png": "[encoded data removed]",
      "text/plain": [
       "<Figure size 432x288 with 1 Axes>"
      ]
     },
     "metadata": {
      "needs_background": "light"
     },
     "output_type": "display_data"
    }
   ],
   "source": [
    "plt.plot(range(1,11), Adam_score.history['accuracy'], label='Training Accuracy')\n",
    "plt.plot(range(1,11), Adam_score.history['val_accuracy'],label='Validation Accuracy')\n",
    "plt.axis([1, 10, 0, 1])\n",
    "plt.xlabel('Epoch')\n",
    "plt.ylabel('Accuracy')\n",
    "plt.title('Train and Validation Accuracy using Adam Optimizer')\n",
    "plt.legend()\n",
    "plt.show()"
   ]
  },
  {
   "cell_type": "markdown",
   "metadata": {},
   "source": [
    "The adam optimizer does pretty well. From the graph, we can see that the Training Accuracy is almost 100% after 10 epochs, while the Validation Accuracy is\n",
    "around 80%. This gap of 20% suggests that overfitting is happening when the adam optimizer is used.\n",
    "\n",
    "By contrast, the gap between training and validation accuracy is smaller for the RMSprop optimizer. Hence, we conclude that the RMSprop optimizer is the most optimal for this\n",
    "dataset and the LSTM network, and we shall use the model built using the RMSprop optimizer from this point onward."
   ]
  },
  {
   "cell_type": "markdown",
   "metadata": {},
   "source": [
    "## Confusion Matrix"
   ]
  },
  {
   "cell_type": "markdown",
   "metadata": {},
   "source": [
    "The confusion matrix is a useful visualization tool to evaluate the performance of our model. Let's use the confusion matrix to evaluate the performance of our model in this project.\n",
    "\n",
    "To recap, these are the definitions of the terms in the confusion matrix:\n",
    "* **True negative**: The actual class is negative (negative sentiment), and the model also predicted negative\n",
    "* **False positive**: The actual class is negative (negative sentiment), but the model predicted positive\n",
    "* **False negative**: The actual class is positive (positive sentiment), but the model predicted negative\n",
    "* **True positive**: The actual class is positive (positive sentiment), and the model predicted positive\n",
    "\n",
    "We want our false positive and false negative numbers to be as low as possible, and for the true negative and true positive numbers to be as high as possible."
   ]
  },
  {
   "cell_type": "code",
   "execution_count": 13,
   "metadata": {},
   "outputs": [
    {
     "name": "stdout",
     "output_type": "stream",
     "text": [
      "782/782 [==============================] - 19s 22ms/step\n"
     ]
    },
    {
     "data": {
      "image/png": "[encoded data removed]",
      "text/plain": [
       "<Figure size 432x288 with 1 Axes>"
      ]
     },
     "metadata": {
      "needs_background": "light"
     },
     "output_type": "display_data"
    }
   ],
   "source": [
    "y_test_pred = (RMSprop_model.predict(X_test_padded) > 0.5).astype(\"int32\")\n",
    "c_matrix = confusion_matrix(y_test, y_test_pred)\n",
    "ax = sns.heatmap(c_matrix, annot=True, xticklabels=['Negative Sentiment', 'Positive Sentiment'], yticklabels=['Negative Sentiment', 'Positive Sentiment'], cbar=False, cmap='Blues', fmt='g')\n",
    "ax.set_xlabel(\"Prediction\")\n",
    "ax.set_ylabel(\"Actual\")\n",
    "plt.show()"
   ]
  },
  {
   "cell_type": "markdown",
   "metadata": {},
   "source": [
    "From the confusion matrix, we can see that most of the testing data was classified correctly, with the number of true negatives and true positives at around 82.57%. In other words, our model is 82.98% accurate at predicting sentiment for movie reviews. \n",
    "\n",
    "Let's take a look at some of the wrongly classified samples, and see where the model got it wrong. The following code captures the index of the wrongly classified samples:"
   ]
  },
  {
   "cell_type": "code",
   "execution_count": 14,
   "metadata": {},
   "outputs": [],
   "source": [
    "false_negatives = []\n",
    "false_positives = []\n",
    "for i in range(len(y_test_pred)):\n",
    "    if y_test_pred[i][0] != y_test[i]:\n",
    "        if y_test[i] == 0: # False Positive\n",
    "            false_positives.append(i)\n",
    "        else:\n",
    "            false_negatives.append(i)"
   ]
  },
  {
   "cell_type": "code",
   "execution_count": 15,
   "metadata": {},
   "outputs": [],
   "source": [
    "# Use the default parameters to keras.datasets.imdb.load_data\n",
    "start_char = 1\n",
    "oov_char = 2\n",
    "index_from = 3\n",
    "\n",
    "# Retrieve the word index file mapping words to indices\n",
    "word_index = keras.datasets.imdb.get_word_index()\n",
    "\n",
    "# Reverse the word index to obtain a dict mapping indices to words\n",
    "# And add `index_from` to indices to sync with sequence\n",
    "inverted_word_index = dict(\n",
    "    (i + index_from, word) for (word, i) in word_index.items()\n",
    ")\n",
    "# Update `inverted_word_index` to include `start_char` and `oov_char`\n",
    "inverted_word_index[start_char] = \"[START]\"\n",
    "inverted_word_index[oov_char] = \"[OOV]\"\n"
   ]
  },
  {
   "cell_type": "code",
   "execution_count": 24,
   "metadata": {},
   "outputs": [
    {
     "data": {
      "text/plain": [
       "\"that i didn't make it to the end of either of the last 2 episodes because i fell asleep i can only admit that i was watching the two main characters very closely and i could pick out some mannerisms that steve did while portraying the character that [OOV] did such an excellent job with so i must give credit for that as for karl portrayal simple dead meat can only say again that i was very disappointed only because i cared so much for the original [OOV] and like others have [OOV] my feelings for a truly great western\""
      ]
     },
     "execution_count": 24,
     "metadata": {},
     "output_type": "execute_result"
    }
   ],
   "source": [
    "# Decode the first sequence in the dataset\n",
    "false_positives_review = \" \".join(inverted_word_index[i] for i in X_test_padded[false_positives[99]])\n",
    "false_positives_review"
   ]
  },
  {
   "cell_type": "markdown",
   "metadata": {},
   "source": [
    "Now, let's take a look at some false negatives:"
   ]
  },
  {
   "cell_type": "code",
   "execution_count": 25,
   "metadata": {},
   "outputs": [
    {
     "data": {
      "text/plain": [
       "\"pick up but in the middle of the movie the drag hurts the overall film's quality in a half hour tv show this isn't a problem but with film length celluloid it's inevitable that boredom will ensue at some point after awhile the gross crap just becomes br br on the whole though number two is an entertaining imaginative and above all disgusting comedy that will leave you with a feeling of pain [OOV] and hilarity go see it if you must but hey if you know you don't like this kind of stuff don't bother you'll just be disappointed\""
      ]
     },
     "execution_count": 25,
     "metadata": {},
     "output_type": "execute_result"
    }
   ],
   "source": [
    "# Decode the first sequence in the dataset\n",
    "false_negative_review = \" \".join(inverted_word_index[i] for i in X_test_padded[false_negatives[99]])\n",
    "false_negative_review"
   ]
  },
  {
   "cell_type": "markdown",
   "metadata": {},
   "source": [
    "## Summary"
   ]
  },
  {
   "cell_type": "markdown",
   "metadata": {},
   "source": [
    "In this project, we created an LSTM-based neural network that can predict the sentiment of movie reviews. During the model training process, we use three models: sgd optimizer, RMSprop optimizer, and Adam optimizer. From the three models, we found that RMSprop optimizer is the most optimal for this dataset and the LSTM network. Based on the confusion matrix, it is found that our model is 82.57% accurate at predicting sentiment for movie reviews."
   ]
  }
 ],
 "metadata": {
  "kernelspec": {
   "display_name": "base",
   "language": "python",
   "name": "python3"
  },
  "language_info": {
   "codemirror_mode": {
    "name": "ipython",
    "version": 3
   },
   "file_extension": ".py",
   "mimetype": "text/x-python",
   "name": "python",
   "nbconvert_exporter": "python",
   "pygments_lexer": "ipython3",
   "version": "3.8.8"
  },
  "orig_nbformat": 4
 },
 "nbformat": 4,
 "nbformat_minor": 2
}
